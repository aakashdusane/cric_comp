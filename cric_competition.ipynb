{
 "cells": [
  {
   "cell_type": "code",
   "execution_count": 117,
   "metadata": {},
   "outputs": [],
   "source": [
    "import pandas as pd\n",
    "import numpy as np\n",
    "import requests\n",
    "import bs4 as bs\n",
    "\n",
    "import datetime as dt\n",
    "import os\n",
    "import math\n",
    "\n",
    "import matplotlib.pyplot as plt\n",
    "import seaborn as sns\n",
    "\n",
    "from sklearn.preprocessing import MinMaxScaler\n",
    "scaler = MinMaxScaler((0.1, 1))"
   ]
  },
  {
   "cell_type": "markdown",
   "metadata": {},
   "source": [
    "### Scraping stats from espnCricinfo"
   ]
  },
  {
   "cell_type": "code",
   "execution_count": 3,
   "metadata": {},
   "outputs": [],
   "source": [
    "def get_table(table_name, url=None):\n",
    "    \"\"\"\n",
    "    Returns table if exists as csv. If url is mentioned, scrapes url page from espcricinfo for the table,\n",
    "    saves as csv before returning.  \n",
    "    \"\"\"\n",
    "\n",
    "    if url:\n",
    "        if not os.path.exists(f\"D:\\\\DataSets\\\\cric_competition\\\\{table_name}.csv\"):\n",
    "            resp = requests.get(url).text\n",
    "            soup = bs.BeautifulSoup(resp, 'lxml')\n",
    "\n",
    "            table = soup.find(\"table\", {\"class\": \"engineTable\"})\n",
    "            rows = table.find_all('tr')\n",
    "            arr = []\n",
    "            for tr in rows:\n",
    "                arr.append(tr.text.strip('\\n').replace('\\n\\n', '\\n').replace('\\n', '\\t').split('\\t'))\n",
    "\n",
    "            df = pd.DataFrame(arr)\n",
    "            df.to_csv(f\"D:\\\\DataSets\\\\cric_competition\\\\{table_name}.csv\", index=False)\n",
    "        \n",
    "    \n",
    "    return pd.read_csv(f\"D:\\\\DataSets\\\\cric_competition\\\\{table_name}.csv\", header=1)"
   ]
  },
  {
   "cell_type": "markdown",
   "metadata": {},
   "source": [
    "## Head to head results"
   ]
  },
  {
   "cell_type": "code",
   "execution_count": 187,
   "metadata": {},
   "outputs": [
    {
     "data": {
      "text/html": [
       "<div>\n",
       "<style scoped>\n",
       "    .dataframe tbody tr th:only-of-type {\n",
       "        vertical-align: middle;\n",
       "    }\n",
       "\n",
       "    .dataframe tbody tr th {\n",
       "        vertical-align: top;\n",
       "    }\n",
       "\n",
       "    .dataframe thead th {\n",
       "        text-align: right;\n",
       "    }\n",
       "</style>\n",
       "<table border=\"1\" class=\"dataframe\">\n",
       "  <thead>\n",
       "    <tr style=\"text-align: right;\">\n",
       "      <th></th>\n",
       "      <th>home</th>\n",
       "      <th>away</th>\n",
       "      <th>winner</th>\n",
       "      <th>ground</th>\n",
       "      <th>margin_by</th>\n",
       "      <th>win_margin</th>\n",
       "    </tr>\n",
       "    <tr>\n",
       "      <th>Match Date</th>\n",
       "      <th></th>\n",
       "      <th></th>\n",
       "      <th></th>\n",
       "      <th></th>\n",
       "      <th></th>\n",
       "      <th></th>\n",
       "    </tr>\n",
       "  </thead>\n",
       "  <tbody>\n",
       "    <tr>\n",
       "      <th>2019-01-18</th>\n",
       "      <td>Australia</td>\n",
       "      <td>India</td>\n",
       "      <td>India</td>\n",
       "      <td>Melbourne</td>\n",
       "      <td>wickets</td>\n",
       "      <td>7</td>\n",
       "    </tr>\n",
       "    <tr>\n",
       "      <th>2019-01-15</th>\n",
       "      <td>Australia</td>\n",
       "      <td>India</td>\n",
       "      <td>India</td>\n",
       "      <td>Adelaide</td>\n",
       "      <td>wickets</td>\n",
       "      <td>6</td>\n",
       "    </tr>\n",
       "    <tr>\n",
       "      <th>2019-01-12</th>\n",
       "      <td>Australia</td>\n",
       "      <td>India</td>\n",
       "      <td>Australia</td>\n",
       "      <td>Sydney</td>\n",
       "      <td>runs</td>\n",
       "      <td>34</td>\n",
       "    </tr>\n",
       "    <tr>\n",
       "      <th>2017-10-01</th>\n",
       "      <td>India</td>\n",
       "      <td>Australia</td>\n",
       "      <td>India</td>\n",
       "      <td>Nagpur</td>\n",
       "      <td>wickets</td>\n",
       "      <td>7</td>\n",
       "    </tr>\n",
       "    <tr>\n",
       "      <th>2017-09-28</th>\n",
       "      <td>India</td>\n",
       "      <td>Australia</td>\n",
       "      <td>Australia</td>\n",
       "      <td>Bengaluru</td>\n",
       "      <td>runs</td>\n",
       "      <td>21</td>\n",
       "    </tr>\n",
       "  </tbody>\n",
       "</table>\n",
       "</div>"
      ],
      "text/plain": [
       "                 home       away     winner     ground margin_by win_margin\n",
       "Match Date                                                                 \n",
       "2019-01-18  Australia      India      India  Melbourne   wickets          7\n",
       "2019-01-15  Australia      India      India   Adelaide   wickets          6\n",
       "2019-01-12  Australia      India  Australia     Sydney      runs         34\n",
       "2017-10-01      India  Australia      India     Nagpur   wickets          7\n",
       "2017-09-28      India  Australia  Australia  Bengaluru      runs         21"
      ]
     },
     "execution_count": 187,
     "metadata": {},
     "output_type": "execute_result"
    }
   ],
   "source": [
    "match_results = get_table('match_results')\n",
    "\n",
    "match_results['Match Date'] = pd.to_datetime(match_results['Match Date'])\n",
    "match_results = match_results.set_index('Match Date').sort_index(ascending=False)\n",
    "\n",
    "match_results['margin_by'] = match_results['Margin'].str.split(' ').str[1]\n",
    "match_results['win_margin'] = match_results['Margin'].str.split(' ').str[0]\n",
    "match_results.drop(['Margin', 'Scorecard'], axis=1, inplace=True)\n",
    "\n",
    "match_results.rename(columns={'Team 1': 'home', 'Team 2': 'away', 'Winner': 'winner', 'Ground': 'ground'}, inplace=True)\n",
    "\n",
    "match_results.head()"
   ]
  },
  {
   "cell_type": "markdown",
   "metadata": {},
   "source": [
    "### H2H results in India"
   ]
  },
  {
   "cell_type": "markdown",
   "metadata": {},
   "source": [
    "Even with India's home advantage, Australia has beat india more number of times."
   ]
  },
  {
   "cell_type": "code",
   "execution_count": 192,
   "metadata": {
    "scrolled": false
   },
   "outputs": [
    {
     "data": {
      "image/png": "[encoded data removed]",
      "text/plain": [
       "<Figure size 576x432 with 1 Axes>"
      ]
     },
     "metadata": {},
     "output_type": "display_data"
    }
   ],
   "source": [
    "plt.figure(figsize=(8, 6))\n",
    "a = pd.DataFrame(match_results[match_results['home'] == 'India']['winner'].value_counts())\n",
    "plt.bar(a.index, a['winner'], color='k')\n",
    "plt.show()"
   ]
  },
  {
   "cell_type": "markdown",
   "metadata": {},
   "source": [
    "### Highest Totals against opposition"
   ]
  },
  {
   "cell_type": "code",
   "execution_count": 32,
   "metadata": {},
   "outputs": [
    {
     "data": {
      "text/html": [
       "<div>\n",
       "<style scoped>\n",
       "    .dataframe tbody tr th:only-of-type {\n",
       "        vertical-align: middle;\n",
       "    }\n",
       "\n",
       "    .dataframe tbody tr th {\n",
       "        vertical-align: top;\n",
       "    }\n",
       "\n",
       "    .dataframe thead th {\n",
       "        text-align: right;\n",
       "    }\n",
       "</style>\n",
       "<table border=\"1\" class=\"dataframe\">\n",
       "  <thead>\n",
       "    <tr style=\"text-align: right;\">\n",
       "      <th></th>\n",
       "      <th>Team</th>\n",
       "      <th>Score</th>\n",
       "      <th>Overs</th>\n",
       "      <th>RR</th>\n",
       "      <th>Inns</th>\n",
       "      <th>Ground</th>\n",
       "      <th>Match Date</th>\n",
       "      <th>runs</th>\n",
       "      <th>for_wickets</th>\n",
       "    </tr>\n",
       "  </thead>\n",
       "  <tbody>\n",
       "    <tr>\n",
       "      <th>0</th>\n",
       "      <td>India</td>\n",
       "      <td>383/6</td>\n",
       "      <td>50.0</td>\n",
       "      <td>7.66</td>\n",
       "      <td>1</td>\n",
       "      <td>Bengaluru</td>\n",
       "      <td>2013-11-02</td>\n",
       "      <td>383</td>\n",
       "      <td>6</td>\n",
       "    </tr>\n",
       "    <tr>\n",
       "      <th>1</th>\n",
       "      <td>India</td>\n",
       "      <td>362/1</td>\n",
       "      <td>43.3</td>\n",
       "      <td>8.32</td>\n",
       "      <td>2</td>\n",
       "      <td>Jaipur</td>\n",
       "      <td>2013-10-16</td>\n",
       "      <td>362</td>\n",
       "      <td>1</td>\n",
       "    </tr>\n",
       "    <tr>\n",
       "      <th>2</th>\n",
       "      <td>Australia</td>\n",
       "      <td>359/2</td>\n",
       "      <td>50.0</td>\n",
       "      <td>7.18</td>\n",
       "      <td>1</td>\n",
       "      <td>Johannesburg</td>\n",
       "      <td>2003-03-23</td>\n",
       "      <td>359</td>\n",
       "      <td>2</td>\n",
       "    </tr>\n",
       "    <tr>\n",
       "      <th>3</th>\n",
       "      <td>Australia</td>\n",
       "      <td>359/5</td>\n",
       "      <td>50.0</td>\n",
       "      <td>7.18</td>\n",
       "      <td>1</td>\n",
       "      <td>Sydney</td>\n",
       "      <td>2004-02-08</td>\n",
       "      <td>359</td>\n",
       "      <td>5</td>\n",
       "    </tr>\n",
       "    <tr>\n",
       "      <th>4</th>\n",
       "      <td>Australia</td>\n",
       "      <td>359/5</td>\n",
       "      <td>50.0</td>\n",
       "      <td>7.18</td>\n",
       "      <td>1</td>\n",
       "      <td>Jaipur</td>\n",
       "      <td>2013-10-16</td>\n",
       "      <td>359</td>\n",
       "      <td>5</td>\n",
       "    </tr>\n",
       "  </tbody>\n",
       "</table>\n",
       "</div>"
      ],
      "text/plain": [
       "        Team  Score  Overs    RR  Inns        Ground Match Date  runs  \\\n",
       "0      India  383/6   50.0  7.66     1     Bengaluru 2013-11-02   383   \n",
       "1      India  362/1   43.3  8.32     2        Jaipur 2013-10-16   362   \n",
       "2  Australia  359/2   50.0  7.18     1  Johannesburg 2003-03-23   359   \n",
       "3  Australia  359/5   50.0  7.18     1        Sydney 2004-02-08   359   \n",
       "4  Australia  359/5   50.0  7.18     1        Jaipur 2013-10-16   359   \n",
       "\n",
       "   for_wickets  \n",
       "0            6  \n",
       "1            1  \n",
       "2            2  \n",
       "3            5  \n",
       "4            5  "
      ]
     },
     "execution_count": 32,
     "metadata": {},
     "output_type": "execute_result"
    }
   ],
   "source": [
    "highest_totals = get_table('highest_totals')\n",
    "\n",
    "highest_totals['Match Date'] = pd.to_datetime(highest_totals['Match Date'])\n",
    "highest_totals['runs'] = highest_totals['Score'].str.split('/').str[0]\n",
    "highest_totals['runs'] = highest_totals['runs'].astype('int')\n",
    "highest_totals['for_wickets'] = highest_totals['Score'].str.split('/').str[1]\n",
    "highest_totals['for_wickets'].fillna(0, inplace=True)\n",
    "highest_totals['for_wickets'] = highest_totals['for_wickets'].astype('int')\n",
    "highest_totals.drop('Scorecard', axis=1, inplace=True)\n",
    "highest_totals.head()"
   ]
  },
  {
   "cell_type": "markdown",
   "metadata": {},
   "source": [
    "#### Plot below shows highest total against opposition against achieved Run Rate. "
   ]
  },
  {
   "cell_type": "code",
   "execution_count": 94,
   "metadata": {},
   "outputs": [
    {
     "data": {
      "image/png": "[encoded data removed]",
      "text/plain": [
       "<Figure size 720x864 with 1 Axes>"
      ]
     },
     "metadata": {},
     "output_type": "display_data"
    },
    {
     "data": {
      "image/png": "[encoded data removed]",
      "text/plain": [
       "<Figure size 720x1296 with 1 Axes>"
      ]
     },
     "metadata": {},
     "output_type": "display_data"
    }
   ],
   "source": [
    "plt.figure(figsize=(10, 12))\n",
    "\n",
    "plt.subplot(211)\n",
    "sns.scatterplot(data=highest_totals, x='runs', y='RR', hue='Team', alpha=0.6)\n",
    "plt.show()\n",
    "\n",
    "plt.figure(figsize=(10, 18))\n",
    "plt.subplot(212)\n",
    "lim = highest_totals[:10]\n",
    "ax = sns.scatterplot(data=lim, x='runs', y='RR', hue='Team', alpha=0.6, s=1000)\n",
    "\n",
    "# xstart = math.floor(lim['runs'].min() - 10)\n",
    "# xend = math.ceil(lim['runs'].max() + 10)\n",
    "# ystart = lim['RR'].min() - 0.02\n",
    "# yend = lim['RR'].max() + 0.02\n",
    "\n",
    "# ax.set_xlim(xstart, xend)\n",
    "# ax.set_ylim(ystart, yend)\n",
    "\n",
    "#For each point, we add a text inside the bubble\n",
    "for line in range(0, lim.shape[0]):\n",
    "    ax.text(lim['runs'][line], lim['RR'][line], lim['Ground'][line],\n",
    "            horizontalalignment='center', \n",
    "               size='small', color='black', fontsize=12)\n",
    "plt.show()"
   ]
  },
  {
   "cell_type": "markdown",
   "metadata": {},
   "source": [
    "### Highest aggregates (IND + AUS)"
   ]
  },
  {
   "cell_type": "markdown",
   "metadata": {},
   "source": [
    "Records of combined runs of both innings of games played between India and Australia."
   ]
  },
  {
   "cell_type": "code",
   "execution_count": 108,
   "metadata": {},
   "outputs": [
    {
     "data": {
      "text/html": [
       "<div>\n",
       "<style scoped>\n",
       "    .dataframe tbody tr th:only-of-type {\n",
       "        vertical-align: middle;\n",
       "    }\n",
       "\n",
       "    .dataframe tbody tr th {\n",
       "        vertical-align: top;\n",
       "    }\n",
       "\n",
       "    .dataframe thead th {\n",
       "        text-align: right;\n",
       "    }\n",
       "</style>\n",
       "<table border=\"1\" class=\"dataframe\">\n",
       "  <thead>\n",
       "    <tr style=\"text-align: right;\">\n",
       "      <th></th>\n",
       "      <th>times_played</th>\n",
       "      <th>Runs</th>\n",
       "      <th>RR</th>\n",
       "    </tr>\n",
       "    <tr>\n",
       "      <th>Ground</th>\n",
       "      <th></th>\n",
       "      <th></th>\n",
       "      <th></th>\n",
       "    </tr>\n",
       "  </thead>\n",
       "  <tbody>\n",
       "    <tr>\n",
       "      <th>Jaipur</th>\n",
       "      <td>1</td>\n",
       "      <td>721.0</td>\n",
       "      <td>7.71</td>\n",
       "    </tr>\n",
       "    <tr>\n",
       "      <th>Canberra</th>\n",
       "      <td>1</td>\n",
       "      <td>671.0</td>\n",
       "      <td>6.75</td>\n",
       "    </tr>\n",
       "    <tr>\n",
       "      <th>Johannesburg</th>\n",
       "      <td>1</td>\n",
       "      <td>593.0</td>\n",
       "      <td>6.63</td>\n",
       "    </tr>\n",
       "    <tr>\n",
       "      <th>Bengaluru</th>\n",
       "      <td>4</td>\n",
       "      <td>640.0</td>\n",
       "      <td>6.40</td>\n",
       "    </tr>\n",
       "    <tr>\n",
       "      <th>Perth</th>\n",
       "      <td>1</td>\n",
       "      <td>619.0</td>\n",
       "      <td>6.23</td>\n",
       "    </tr>\n",
       "  </tbody>\n",
       "</table>\n",
       "</div>"
      ],
      "text/plain": [
       "              times_played   Runs    RR\n",
       "Ground                                 \n",
       "Jaipur                   1  721.0  7.71\n",
       "Canberra                 1  671.0  6.75\n",
       "Johannesburg             1  593.0  6.63\n",
       "Bengaluru                4  640.0  6.40\n",
       "Perth                    1  619.0  6.23"
      ]
     },
     "execution_count": 108,
     "metadata": {},
     "output_type": "execute_result"
    }
   ],
   "source": [
    "highest_aggregates = get_table('highest_aggregates')\n",
    "\n",
    "highest_aggregates['Match Date'] = pd.to_datetime(highest_aggregates['Match Date'])\n",
    "highest_aggregates['times_played'] = 1\n",
    "\n",
    "\n",
    "data = highest_aggregates[['Runs', 'RR', 'Ground', 'times_played']].groupby('Ground').agg({'times_played': 'sum', 'Runs': 'median', 'RR': 'median'}).sort_values(['RR'], ascending=False).head(10)\n",
    "data.head()"
   ]
  },
  {
   "cell_type": "markdown",
   "metadata": {},
   "source": [
    "#### Grounds with the best median run-rate to the worst. (For all games between IND and AUS)"
   ]
  },
  {
   "cell_type": "code",
   "execution_count": 112,
   "metadata": {},
   "outputs": [
    {
     "data": {
      "image/png": "[encoded data removed]",
      "text/plain": [
       "<Figure size 720x432 with 2 Axes>"
      ]
     },
     "metadata": {},
     "output_type": "display_data"
    }
   ],
   "source": [
    "plt.figure(figsize=(10, 6))\n",
    "sns.heatmap(data[['RR']], robust=True, cmap=\"GnBu\", annot=True, square=True)\n",
    "plt.show()"
   ]
  },
  {
   "cell_type": "markdown",
   "metadata": {},
   "source": [
    "### Most Runs against opposition  (current squad)"
   ]
  },
  {
   "cell_type": "code",
   "execution_count": 116,
   "metadata": {},
   "outputs": [
    {
     "data": {
      "text/html": [
       "<div>\n",
       "<style scoped>\n",
       "    .dataframe tbody tr th:only-of-type {\n",
       "        vertical-align: middle;\n",
       "    }\n",
       "\n",
       "    .dataframe tbody tr th {\n",
       "        vertical-align: top;\n",
       "    }\n",
       "\n",
       "    .dataframe thead th {\n",
       "        text-align: right;\n",
       "    }\n",
       "</style>\n",
       "<table border=\"1\" class=\"dataframe\">\n",
       "  <thead>\n",
       "    <tr style=\"text-align: right;\">\n",
       "      <th></th>\n",
       "      <th>Player</th>\n",
       "      <th>Mat</th>\n",
       "      <th>Inns</th>\n",
       "      <th>NO</th>\n",
       "      <th>Runs</th>\n",
       "      <th>HS</th>\n",
       "      <th>Ave</th>\n",
       "      <th>BF</th>\n",
       "      <th>SR</th>\n",
       "      <th>100</th>\n",
       "      <th>50</th>\n",
       "      <th>0</th>\n",
       "      <th>4s</th>\n",
       "      <th>6s</th>\n",
       "      <th>year_start</th>\n",
       "      <th>year_end</th>\n",
       "      <th>current_squad</th>\n",
       "      <th>team</th>\n",
       "    </tr>\n",
       "  </thead>\n",
       "  <tbody>\n",
       "    <tr>\n",
       "      <th>2</th>\n",
       "      <td>RG Sharma (INDIA)</td>\n",
       "      <td>31</td>\n",
       "      <td>31</td>\n",
       "      <td>4</td>\n",
       "      <td>1778</td>\n",
       "      <td>209</td>\n",
       "      <td>65.85</td>\n",
       "      <td>1828</td>\n",
       "      <td>97.26</td>\n",
       "      <td>7</td>\n",
       "      <td>5</td>\n",
       "      <td>1</td>\n",
       "      <td>141</td>\n",
       "      <td>66</td>\n",
       "      <td>2007</td>\n",
       "      <td>2019</td>\n",
       "      <td>1</td>\n",
       "      <td>india</td>\n",
       "    </tr>\n",
       "    <tr>\n",
       "      <th>4</th>\n",
       "      <td>MS Dhoni (INDIA)</td>\n",
       "      <td>51</td>\n",
       "      <td>44</td>\n",
       "      <td>10</td>\n",
       "      <td>1548</td>\n",
       "      <td>139*</td>\n",
       "      <td>45.52</td>\n",
       "      <td>1923</td>\n",
       "      <td>80.49</td>\n",
       "      <td>2</td>\n",
       "      <td>10</td>\n",
       "      <td>2</td>\n",
       "      <td>101</td>\n",
       "      <td>30</td>\n",
       "      <td>2006</td>\n",
       "      <td>2019</td>\n",
       "      <td>1</td>\n",
       "      <td>india</td>\n",
       "    </tr>\n",
       "    <tr>\n",
       "      <th>6</th>\n",
       "      <td>V Kohli (INDIA)</td>\n",
       "      <td>31</td>\n",
       "      <td>29</td>\n",
       "      <td>3</td>\n",
       "      <td>1335</td>\n",
       "      <td>118</td>\n",
       "      <td>51.34</td>\n",
       "      <td>1430</td>\n",
       "      <td>93.35</td>\n",
       "      <td>6</td>\n",
       "      <td>5</td>\n",
       "      <td>2</td>\n",
       "      <td>118</td>\n",
       "      <td>15</td>\n",
       "      <td>2009</td>\n",
       "      <td>2019</td>\n",
       "      <td>1</td>\n",
       "      <td>india</td>\n",
       "    </tr>\n",
       "    <tr>\n",
       "      <th>18</th>\n",
       "      <td>AJ Finch (AUS)</td>\n",
       "      <td>20</td>\n",
       "      <td>19</td>\n",
       "      <td>0</td>\n",
       "      <td>856</td>\n",
       "      <td>124</td>\n",
       "      <td>45.05</td>\n",
       "      <td>1001</td>\n",
       "      <td>85.51</td>\n",
       "      <td>2</td>\n",
       "      <td>6</td>\n",
       "      <td>0</td>\n",
       "      <td>88</td>\n",
       "      <td>18</td>\n",
       "      <td>2013</td>\n",
       "      <td>2019</td>\n",
       "      <td>1</td>\n",
       "      <td>aus</td>\n",
       "    </tr>\n",
       "    <tr>\n",
       "      <th>28</th>\n",
       "      <td>S Dhawan (INDIA)</td>\n",
       "      <td>18</td>\n",
       "      <td>18</td>\n",
       "      <td>1</td>\n",
       "      <td>681</td>\n",
       "      <td>126</td>\n",
       "      <td>40.05</td>\n",
       "      <td>699</td>\n",
       "      <td>97.42</td>\n",
       "      <td>2</td>\n",
       "      <td>4</td>\n",
       "      <td>2</td>\n",
       "      <td>83</td>\n",
       "      <td>6</td>\n",
       "      <td>2010</td>\n",
       "      <td>2019</td>\n",
       "      <td>1</td>\n",
       "      <td>india</td>\n",
       "    </tr>\n",
       "    <tr>\n",
       "      <th>34</th>\n",
       "      <td>GJ Maxwell (AUS)</td>\n",
       "      <td>19</td>\n",
       "      <td>18</td>\n",
       "      <td>2</td>\n",
       "      <td>603</td>\n",
       "      <td>96</td>\n",
       "      <td>37.68</td>\n",
       "      <td>444</td>\n",
       "      <td>135.81</td>\n",
       "      <td>0</td>\n",
       "      <td>4</td>\n",
       "      <td>0</td>\n",
       "      <td>53</td>\n",
       "      <td>29</td>\n",
       "      <td>2013</td>\n",
       "      <td>2019</td>\n",
       "      <td>1</td>\n",
       "      <td>aus</td>\n",
       "    </tr>\n",
       "    <tr>\n",
       "      <th>39</th>\n",
       "      <td>SE Marsh (AUS)</td>\n",
       "      <td>11</td>\n",
       "      <td>11</td>\n",
       "      <td>0</td>\n",
       "      <td>508</td>\n",
       "      <td>131</td>\n",
       "      <td>46.18</td>\n",
       "      <td>599</td>\n",
       "      <td>84.80</td>\n",
       "      <td>2</td>\n",
       "      <td>3</td>\n",
       "      <td>1</td>\n",
       "      <td>39</td>\n",
       "      <td>6</td>\n",
       "      <td>2009</td>\n",
       "      <td>2019</td>\n",
       "      <td>1</td>\n",
       "      <td>aus</td>\n",
       "    </tr>\n",
       "  </tbody>\n",
       "</table>\n",
       "</div>"
      ],
      "text/plain": [
       "               Player  Mat  Inns  NO  Runs    HS    Ave    BF      SR  100  \\\n",
       "2   RG Sharma (INDIA)   31    31   4  1778   209  65.85  1828   97.26    7   \n",
       "4    MS Dhoni (INDIA)   51    44  10  1548  139*  45.52  1923   80.49    2   \n",
       "6     V Kohli (INDIA)   31    29   3  1335   118  51.34  1430   93.35    6   \n",
       "18     AJ Finch (AUS)   20    19   0   856   124  45.05  1001   85.51    2   \n",
       "28   S Dhawan (INDIA)   18    18   1   681   126  40.05   699   97.42    2   \n",
       "34   GJ Maxwell (AUS)   19    18   2   603    96  37.68   444  135.81    0   \n",
       "39     SE Marsh (AUS)   11    11   0   508   131  46.18   599   84.80    2   \n",
       "\n",
       "    50  0   4s  6s  year_start  year_end  current_squad   team  \n",
       "2    5  1  141  66        2007      2019              1  india  \n",
       "4   10  2  101  30        2006      2019              1  india  \n",
       "6    5  2  118  15        2009      2019              1  india  \n",
       "18   6  0   88  18        2013      2019              1    aus  \n",
       "28   4  2   83   6        2010      2019              1  india  \n",
       "34   4  0   53  29        2013      2019              1    aus  \n",
       "39   3  1   39   6        2009      2019              1    aus  "
      ]
     },
     "execution_count": 116,
     "metadata": {},
     "output_type": "execute_result"
    }
   ],
   "source": [
    "most_runs = get_table('most_runs')\n",
    "\n",
    "most_runs['year_start'] = most_runs['Span'].str.split('-').str[0] \n",
    "most_runs['year_start'] = most_runs['year_start'].astype('int')\n",
    "most_runs['year_end'] = most_runs['Span'].str.split('-').str[1] \n",
    "most_runs['year_end'] = most_runs['year_end'].astype('int')\n",
    "\n",
    "most_runs['current_squad'] = 0\n",
    "most_runs.loc[most_runs['year_end'] == 2019, 'current_squad'] = 1\n",
    "\n",
    "most_runs['team'] = most_runs['Player'].str.split('(').str[1].str.strip(')').str.lower()\n",
    "\n",
    "most_runs.drop('Span', axis=1, inplace=True)\n",
    "\n",
    "most_runs_curr = most_runs[most_runs['current_squad'] == 1]\n",
    "most_runs_curr"
   ]
  },
  {
   "cell_type": "markdown",
   "metadata": {},
   "source": [
    "#### Plot of SR vs AVG of a player. Size of bubble indicates number of innings played against opposition."
   ]
  },
  {
   "cell_type": "code",
   "execution_count": 124,
   "metadata": {},
   "outputs": [
    {
     "name": "stderr",
     "output_type": "stream",
     "text": [
      "C:\\Users\\Aakash\\Anaconda3\\lib\\site-packages\\sklearn\\utils\\validation.py:595: DataConversionWarning: Data with input dtype int64 was converted to float64 by MinMaxScaler.\n",
      "  warnings.warn(msg, DataConversionWarning)\n"
     ]
    },
    {
     "data": {
      "image/png": "[encoded data removed]",
      "text/plain": [
       "<Figure size 720x720 with 1 Axes>"
      ]
     },
     "metadata": {},
     "output_type": "display_data"
    }
   ],
   "source": [
    "plt.figure(figsize=(10, 10))\n",
    "s = scaler.fit_transform(most_runs_curr.Inns.values.reshape(-1, 1))\n",
    "\n",
    "ax = sns.scatterplot(data=most_runs_curr, x='SR', y='Ave', hue='team', s=s*2000, alpha=0.6)\n",
    "\n",
    "for line in most_runs_curr.index.values:\n",
    "    ax.text(most_runs_curr['SR'][line], most_runs_curr['Ave'][line], most_runs_curr['Player'][line].split('(')[0],\n",
    "            horizontalalignment='center', \n",
    "                       size='small', color='black', fontsize=11)\n",
    "    \n",
    "plt.show()"
   ]
  },
  {
   "cell_type": "markdown",
   "metadata": {},
   "source": [
    "### most 6s in a single match against opposition"
   ]
  },
  {
   "cell_type": "code",
   "execution_count": 126,
   "metadata": {},
   "outputs": [
    {
     "data": {
      "text/html": [
       "<div>\n",
       "<style scoped>\n",
       "    .dataframe tbody tr th:only-of-type {\n",
       "        vertical-align: middle;\n",
       "    }\n",
       "\n",
       "    .dataframe tbody tr th {\n",
       "        vertical-align: top;\n",
       "    }\n",
       "\n",
       "    .dataframe thead th {\n",
       "        text-align: right;\n",
       "    }\n",
       "</style>\n",
       "<table border=\"1\" class=\"dataframe\">\n",
       "  <thead>\n",
       "    <tr style=\"text-align: right;\">\n",
       "      <th></th>\n",
       "      <th>Player</th>\n",
       "      <th>Runs</th>\n",
       "      <th>Balls</th>\n",
       "      <th>4s</th>\n",
       "      <th>6s</th>\n",
       "      <th>SR</th>\n",
       "      <th>Team</th>\n",
       "      <th>Ground</th>\n",
       "      <th>Match Date</th>\n",
       "    </tr>\n",
       "  </thead>\n",
       "  <tbody>\n",
       "    <tr>\n",
       "      <th>0</th>\n",
       "      <td>RG Sharma</td>\n",
       "      <td>209</td>\n",
       "      <td>158</td>\n",
       "      <td>12</td>\n",
       "      <td>16</td>\n",
       "      <td>132.27</td>\n",
       "      <td>India</td>\n",
       "      <td>Bengaluru</td>\n",
       "      <td>2013-11-02</td>\n",
       "    </tr>\n",
       "    <tr>\n",
       "      <th>4</th>\n",
       "      <td>V Kohli</td>\n",
       "      <td>100</td>\n",
       "      <td>52</td>\n",
       "      <td>8</td>\n",
       "      <td>7</td>\n",
       "      <td>192.30</td>\n",
       "      <td>India</td>\n",
       "      <td>Jaipur</td>\n",
       "      <td>2013-10-16</td>\n",
       "    </tr>\n",
       "    <tr>\n",
       "      <th>5</th>\n",
       "      <td>GJ Maxwell</td>\n",
       "      <td>60</td>\n",
       "      <td>22</td>\n",
       "      <td>3</td>\n",
       "      <td>7</td>\n",
       "      <td>272.72</td>\n",
       "      <td>Australia</td>\n",
       "      <td>Bengaluru</td>\n",
       "      <td>2013-11-02</td>\n",
       "    </tr>\n",
       "    <tr>\n",
       "      <th>6</th>\n",
       "      <td>RG Sharma</td>\n",
       "      <td>171</td>\n",
       "      <td>163</td>\n",
       "      <td>13</td>\n",
       "      <td>7</td>\n",
       "      <td>104.90</td>\n",
       "      <td>India</td>\n",
       "      <td>Perth</td>\n",
       "      <td>2016-01-12</td>\n",
       "    </tr>\n",
       "    <tr>\n",
       "      <th>8</th>\n",
       "      <td>JP Faulkner</td>\n",
       "      <td>64</td>\n",
       "      <td>29</td>\n",
       "      <td>2</td>\n",
       "      <td>6</td>\n",
       "      <td>220.68</td>\n",
       "      <td>Australia</td>\n",
       "      <td>Mohali</td>\n",
       "      <td>2013-10-19</td>\n",
       "    </tr>\n",
       "  </tbody>\n",
       "</table>\n",
       "</div>"
      ],
      "text/plain": [
       "        Player  Runs  Balls  4s  6s      SR       Team     Ground Match Date\n",
       "0    RG Sharma   209    158  12  16  132.27      India  Bengaluru 2013-11-02\n",
       "4      V Kohli   100     52   8   7  192.30      India     Jaipur 2013-10-16\n",
       "5   GJ Maxwell    60     22   3   7  272.72  Australia  Bengaluru 2013-11-02\n",
       "6    RG Sharma   171    163  13   7  104.90      India      Perth 2016-01-12\n",
       "8  JP Faulkner    64     29   2   6  220.68  Australia     Mohali 2013-10-19"
      ]
     },
     "execution_count": 126,
     "metadata": {},
     "output_type": "execute_result"
    }
   ],
   "source": [
    "most_6s_total = get_table('most_6s_total')\n",
    "\n",
    "most_6s_total['Match Date'] = pd.to_datetime(most_6s_total['Match Date'])\n",
    "most_6s_total['Runs'] = most_6s_total['Runs'].str.replace('*', '').astype('int')\n",
    "\n",
    "most_6s_total.drop('Scorecard', axis=1, inplace=True)\n",
    "recent = most_6s_total[most_6s_total['Match Date'].dt.year > 2012]\n",
    "recent.head()"
   ]
  },
  {
   "cell_type": "markdown",
   "metadata": {},
   "source": [
    "#### Plot of runs made vs 6s hit. Size indicates strike-rate."
   ]
  },
  {
   "cell_type": "code",
   "execution_count": 151,
   "metadata": {
    "scrolled": false
   },
   "outputs": [
    {
     "data": {
      "image/png": "[encoded data removed]",
      "text/plain": [
       "<Figure size 1008x1008 with 1 Axes>"
      ]
     },
     "metadata": {},
     "output_type": "display_data"
    },
    {
     "data": {
      "image/png": "[encoded data removed]",
      "text/plain": [
       "<Figure size 1008x1008 with 1 Axes>"
      ]
     },
     "metadata": {},
     "output_type": "display_data"
    }
   ],
   "source": [
    "plt.figure(figsize=(14, 14))\n",
    "plt.subplot(211)\n",
    "sns.scatterplot(data=recent, x='Runs', y='6s', hue='Team', s=s*2700, alpha=0.6)\n",
    "plt.show()\n",
    "\n",
    "plt.figure(figsize=(14, 14))\n",
    "plt.subplot(212)\n",
    "data = recent.head(8)\n",
    "s = scaler.fit_transform(data['SR'].values.reshape(-1, 1))\n",
    "\n",
    "ax = sns.scatterplot(data=data, x='Runs', y='6s', hue='Team', s=s*2700, alpha=0.6)\n",
    "\n",
    "for line in data.index.values:\n",
    "    ax.text(data['Runs'][line], data['6s'][line], data['Player'][line] + '\\n' + data['Ground'][line],\n",
    "            horizontalalignment='center', verticalalignment='center', \n",
    "                       size='small', color='black', fontsize=10)\n",
    "plt.show()"
   ]
  },
  {
   "cell_type": "markdown",
   "metadata": {},
   "source": [
    "### Most runs from 4s + 6s against oppostion"
   ]
  },
  {
   "cell_type": "code",
   "execution_count": 153,
   "metadata": {},
   "outputs": [
    {
     "data": {
      "text/html": [
       "<div>\n",
       "<style scoped>\n",
       "    .dataframe tbody tr th:only-of-type {\n",
       "        vertical-align: middle;\n",
       "    }\n",
       "\n",
       "    .dataframe tbody tr th {\n",
       "        vertical-align: top;\n",
       "    }\n",
       "\n",
       "    .dataframe thead th {\n",
       "        text-align: right;\n",
       "    }\n",
       "</style>\n",
       "<table border=\"1\" class=\"dataframe\">\n",
       "  <thead>\n",
       "    <tr style=\"text-align: right;\">\n",
       "      <th></th>\n",
       "      <th>Player</th>\n",
       "      <th>Runs</th>\n",
       "      <th>Balls</th>\n",
       "      <th>4s</th>\n",
       "      <th>6s</th>\n",
       "      <th>4+6</th>\n",
       "      <th>SR</th>\n",
       "      <th>Team</th>\n",
       "      <th>Ground</th>\n",
       "      <th>Match Date</th>\n",
       "      <th>Scorecard</th>\n",
       "    </tr>\n",
       "  </thead>\n",
       "  <tbody>\n",
       "    <tr>\n",
       "      <th>0</th>\n",
       "      <td>RG Sharma</td>\n",
       "      <td>209</td>\n",
       "      <td>158</td>\n",
       "      <td>12</td>\n",
       "      <td>16</td>\n",
       "      <td>144</td>\n",
       "      <td>132.27</td>\n",
       "      <td>India</td>\n",
       "      <td>Bengaluru</td>\n",
       "      <td>2013-11-02</td>\n",
       "      <td>ODI # 3428</td>\n",
       "    </tr>\n",
       "    <tr>\n",
       "      <th>2</th>\n",
       "      <td>RG Sharma</td>\n",
       "      <td>171</td>\n",
       "      <td>163</td>\n",
       "      <td>13</td>\n",
       "      <td>7</td>\n",
       "      <td>94</td>\n",
       "      <td>104.90</td>\n",
       "      <td>India</td>\n",
       "      <td>Perth</td>\n",
       "      <td>2016-01-12</td>\n",
       "      <td>ODI # 3723</td>\n",
       "    </tr>\n",
       "    <tr>\n",
       "      <th>3</th>\n",
       "      <td>RG Sharma</td>\n",
       "      <td>141</td>\n",
       "      <td>123</td>\n",
       "      <td>17</td>\n",
       "      <td>4</td>\n",
       "      <td>92</td>\n",
       "      <td>114.63</td>\n",
       "      <td>India</td>\n",
       "      <td>Jaipur</td>\n",
       "      <td>2013-10-16</td>\n",
       "      <td>ODI # 3420</td>\n",
       "    </tr>\n",
       "    <tr>\n",
       "      <th>4</th>\n",
       "      <td>GJ Bailey</td>\n",
       "      <td>156</td>\n",
       "      <td>114</td>\n",
       "      <td>13</td>\n",
       "      <td>6</td>\n",
       "      <td>88</td>\n",
       "      <td>136.84</td>\n",
       "      <td>Australia</td>\n",
       "      <td>Nagpur</td>\n",
       "      <td>2013-10-30</td>\n",
       "      <td>ODI # 3424</td>\n",
       "    </tr>\n",
       "    <tr>\n",
       "      <th>5</th>\n",
       "      <td>JP Faulkner</td>\n",
       "      <td>116</td>\n",
       "      <td>73</td>\n",
       "      <td>11</td>\n",
       "      <td>6</td>\n",
       "      <td>80</td>\n",
       "      <td>158.90</td>\n",
       "      <td>Australia</td>\n",
       "      <td>Bengaluru</td>\n",
       "      <td>2013-11-02</td>\n",
       "      <td>ODI # 3428</td>\n",
       "    </tr>\n",
       "  </tbody>\n",
       "</table>\n",
       "</div>"
      ],
      "text/plain": [
       "        Player  Runs  Balls  4s  6s  4+6      SR       Team     Ground  \\\n",
       "0    RG Sharma   209    158  12  16  144  132.27      India  Bengaluru   \n",
       "2    RG Sharma   171    163  13   7   94  104.90      India      Perth   \n",
       "3    RG Sharma   141    123  17   4   92  114.63      India     Jaipur   \n",
       "4    GJ Bailey   156    114  13   6   88  136.84  Australia     Nagpur   \n",
       "5  JP Faulkner   116     73  11   6   80  158.90  Australia  Bengaluru   \n",
       "\n",
       "  Match Date   Scorecard  \n",
       "0 2013-11-02  ODI # 3428  \n",
       "2 2016-01-12  ODI # 3723  \n",
       "3 2013-10-16  ODI # 3420  \n",
       "4 2013-10-30  ODI # 3424  \n",
       "5 2013-11-02  ODI # 3428  "
      ]
     },
     "execution_count": 153,
     "metadata": {},
     "output_type": "execute_result"
    }
   ],
   "source": [
    "most_4s_6s = get_table('most_4s_6s_inning')\n",
    "most_4s_6s['Match Date'] = pd.to_datetime(most_4s_6s['Match Date'])\n",
    "most_4s_6s['Runs'] = most_4s_6s['Runs'].str.replace('*', '').astype('int')\n",
    "recent = most_4s_6s[most_4s_6s['Match Date'].dt.year > 2012]\n",
    "recent.head()"
   ]
  },
  {
   "cell_type": "markdown",
   "metadata": {},
   "source": [
    "#### Plot of balls-faced vs runs-made. Size indicated runs made from 4s+6s"
   ]
  },
  {
   "cell_type": "code",
   "execution_count": 212,
   "metadata": {},
   "outputs": [
    {
     "name": "stderr",
     "output_type": "stream",
     "text": [
      "C:\\Users\\Aakash\\Anaconda3\\lib\\site-packages\\sklearn\\utils\\validation.py:595: DataConversionWarning: Data with input dtype int64 was converted to float64 by MinMaxScaler.\n",
      "  warnings.warn(msg, DataConversionWarning)\n"
     ]
    },
    {
     "data": {
      "image/png": "[encoded data removed]",
      "text/plain": [
       "<Figure size 1008x864 with 1 Axes>"
      ]
     },
     "metadata": {},
     "output_type": "display_data"
    },
    {
     "data": {
      "image/png": "[encoded data removed]",
      "text/plain": [
       "<Figure size 1008x1152 with 1 Axes>"
      ]
     },
     "metadata": {},
     "output_type": "display_data"
    },
    {
     "data": {
      "image/png": "[encoded data removed]",
      "text/plain": [
       "<Figure size 1008x1152 with 1 Axes>"
      ]
     },
     "metadata": {},
     "output_type": "display_data"
    }
   ],
   "source": [
    "s = scaler.fit_transform(recent['4+6'].values.reshape(-1, 1))\n",
    "\n",
    "plt.figure(figsize=(14, 12))\n",
    "plt.subplot(211)\n",
    "sns.scatterplot(data=recent, x='Balls', y='Runs', hue='Team', s=s*1700, alpha=0.6)\n",
    "plt.show()\n",
    "\n",
    "\n",
    "plt.figure(figsize=(14, 16))\n",
    "plt.subplot(212)\n",
    "data = recent.head(12)\n",
    "ax = sns.scatterplot(data=data, x='Balls', y='Runs', hue='Team', s=s*1700, alpha=0.6)\n",
    "\n",
    "for line in data.index.values:\n",
    "    ax.text(data['Balls'][line], data['Runs'][line], data['Player'][line] + '\\n' + data['Ground'][line],\n",
    "            horizontalalignment='center', verticalalignment='center', \n",
    "                       size='small', color='black', fontsize=10)\n",
    "plt.show()\n",
    "\n",
    "\n",
    "plt.figure(figsize=(14, 16))\n",
    "plt.subplot(212)\n",
    "data = recent.head(12)\n",
    "ax = sns.scatterplot(data=data, x='4s', y='6s', hue='Team', s=s*1700, alpha=0.6)\n",
    "\n",
    "for line in data.index.values:\n",
    "    ax.text(data['4s'][line], data['6s'][line], data['Player'][line] + '\\n' + data['Ground'][line],\n",
    "            horizontalalignment='center', verticalalignment='center', \n",
    "                       size='small', color='black', fontsize=10)\n",
    "plt.show()"
   ]
  },
  {
   "cell_type": "markdown",
   "metadata": {},
   "source": [
    "### Most career wickets against opposition "
   ]
  },
  {
   "cell_type": "code",
   "execution_count": 26,
   "metadata": {
    "scrolled": true
   },
   "outputs": [
    {
     "data": {
      "text/html": [
       "<div>\n",
       "<style scoped>\n",
       "    .dataframe tbody tr th:only-of-type {\n",
       "        vertical-align: middle;\n",
       "    }\n",
       "\n",
       "    .dataframe tbody tr th {\n",
       "        vertical-align: top;\n",
       "    }\n",
       "\n",
       "    .dataframe thead th {\n",
       "        text-align: right;\n",
       "    }\n",
       "</style>\n",
       "<table border=\"1\" class=\"dataframe\">\n",
       "  <thead>\n",
       "    <tr style=\"text-align: right;\">\n",
       "      <th></th>\n",
       "      <th>Player</th>\n",
       "      <th>Mat</th>\n",
       "      <th>Inns</th>\n",
       "      <th>Overs</th>\n",
       "      <th>Mdns</th>\n",
       "      <th>Runs</th>\n",
       "      <th>Wkts</th>\n",
       "      <th>BBI</th>\n",
       "      <th>Ave</th>\n",
       "      <th>Econ</th>\n",
       "      <th>SR</th>\n",
       "      <th>4</th>\n",
       "      <th>5</th>\n",
       "      <th>year_start</th>\n",
       "      <th>year_end</th>\n",
       "      <th>current_squad</th>\n",
       "      <th>team</th>\n",
       "    </tr>\n",
       "  </thead>\n",
       "  <tbody>\n",
       "    <tr>\n",
       "      <th>26</th>\n",
       "      <td>RA Jadeja (INDIA)</td>\n",
       "      <td>26</td>\n",
       "      <td>24</td>\n",
       "      <td>216.1</td>\n",
       "      <td>3</td>\n",
       "      <td>1162</td>\n",
       "      <td>20</td>\n",
       "      <td>3/35</td>\n",
       "      <td>58.10</td>\n",
       "      <td>5.37</td>\n",
       "      <td>64.8</td>\n",
       "      <td>0</td>\n",
       "      <td>0</td>\n",
       "      <td>2009</td>\n",
       "      <td>2019</td>\n",
       "      <td>1</td>\n",
       "      <td>india</td>\n",
       "    </tr>\n",
       "    <tr>\n",
       "      <th>32</th>\n",
       "      <td>B Kumar (INDIA)</td>\n",
       "      <td>15</td>\n",
       "      <td>15</td>\n",
       "      <td>126.0</td>\n",
       "      <td>7</td>\n",
       "      <td>654</td>\n",
       "      <td>16</td>\n",
       "      <td>4/45</td>\n",
       "      <td>40.87</td>\n",
       "      <td>5.19</td>\n",
       "      <td>47.2</td>\n",
       "      <td>1</td>\n",
       "      <td>0</td>\n",
       "      <td>2013</td>\n",
       "      <td>2019</td>\n",
       "      <td>1</td>\n",
       "      <td>india</td>\n",
       "    </tr>\n",
       "    <tr>\n",
       "      <th>42</th>\n",
       "      <td>Mohammed Shami (INDIA)</td>\n",
       "      <td>10</td>\n",
       "      <td>9</td>\n",
       "      <td>82.0</td>\n",
       "      <td>3</td>\n",
       "      <td>485</td>\n",
       "      <td>13</td>\n",
       "      <td>3/42</td>\n",
       "      <td>37.30</td>\n",
       "      <td>5.91</td>\n",
       "      <td>37.8</td>\n",
       "      <td>0</td>\n",
       "      <td>0</td>\n",
       "      <td>2013</td>\n",
       "      <td>2019</td>\n",
       "      <td>1</td>\n",
       "      <td>india</td>\n",
       "    </tr>\n",
       "  </tbody>\n",
       "</table>\n",
       "</div>"
      ],
      "text/plain": [
       "                    Player  Mat  Inns  Overs  Mdns  Runs  Wkts   BBI    Ave  \\\n",
       "26       RA Jadeja (INDIA)   26    24  216.1     3  1162    20  3/35  58.10   \n",
       "32         B Kumar (INDIA)   15    15  126.0     7   654    16  4/45  40.87   \n",
       "42  Mohammed Shami (INDIA)   10     9   82.0     3   485    13  3/42  37.30   \n",
       "\n",
       "    Econ    SR  4  5  year_start  year_end  current_squad   team  \n",
       "26  5.37  64.8  0  0        2009      2019              1  india  \n",
       "32  5.19  47.2  1  0        2013      2019              1  india  \n",
       "42  5.91  37.8  0  0        2013      2019              1  india  "
      ]
     },
     "execution_count": 26,
     "metadata": {},
     "output_type": "execute_result"
    }
   ],
   "source": [
    "most_wickets = get_table('most_wickets_total')\n",
    "\n",
    "most_wickets['year_start'] = most_wickets['Span'].str.split('-').str[0] \n",
    "most_wickets['year_start'] = most_wickets['year_start'].astype('int')\n",
    "most_wickets['year_end'] = most_wickets['Span'].str.split('-').str[1] \n",
    "most_wickets['year_end'] = most_wickets['year_end'].astype('int')\n",
    "\n",
    "most_wickets['current_squad'] = 0\n",
    "most_wickets.loc[most_wickets['year_end'] == 2019, 'current_squad'] = 1\n",
    "\n",
    "most_wickets['team'] = most_wickets['Player'].str.split('(').str[1].str.strip(')').str.lower()\n",
    "\n",
    "most_wickets.drop('Span', axis=1, inplace=True)\n",
    "\n",
    "most_wickets_curr = most_wickets[most_wickets['current_squad'] == 1]\n",
    "most_wickets_curr"
   ]
  },
  {
   "cell_type": "markdown",
   "metadata": {},
   "source": [
    "### Best bowling figures in an inning against opposition"
   ]
  },
  {
   "cell_type": "code",
   "execution_count": 29,
   "metadata": {},
   "outputs": [
    {
     "data": {
      "text/html": [
       "<div>\n",
       "<style scoped>\n",
       "    .dataframe tbody tr th:only-of-type {\n",
       "        vertical-align: middle;\n",
       "    }\n",
       "\n",
       "    .dataframe tbody tr th {\n",
       "        vertical-align: top;\n",
       "    }\n",
       "\n",
       "    .dataframe thead th {\n",
       "        text-align: right;\n",
       "    }\n",
       "</style>\n",
       "<table border=\"1\" class=\"dataframe\">\n",
       "  <thead>\n",
       "    <tr style=\"text-align: right;\">\n",
       "      <th></th>\n",
       "      <th>Player</th>\n",
       "      <th>Overs</th>\n",
       "      <th>Mdns</th>\n",
       "      <th>Runs</th>\n",
       "      <th>Wkts</th>\n",
       "      <th>Econ</th>\n",
       "      <th>Team</th>\n",
       "      <th>Ground</th>\n",
       "      <th>Match Date</th>\n",
       "    </tr>\n",
       "  </thead>\n",
       "  <tbody>\n",
       "    <tr>\n",
       "      <th>3</th>\n",
       "      <td>YS Chahal</td>\n",
       "      <td>10.0</td>\n",
       "      <td>0</td>\n",
       "      <td>42</td>\n",
       "      <td>6</td>\n",
       "      <td>4.2</td>\n",
       "      <td>India</td>\n",
       "      <td>Melbourne</td>\n",
       "      <td>2019-01-18</td>\n",
       "    </tr>\n",
       "    <tr>\n",
       "      <th>4</th>\n",
       "      <td>MA Starc</td>\n",
       "      <td>10.0</td>\n",
       "      <td>2</td>\n",
       "      <td>43</td>\n",
       "      <td>6</td>\n",
       "      <td>4.3</td>\n",
       "      <td>Australia</td>\n",
       "      <td>Melbourne</td>\n",
       "      <td>2015-01-18</td>\n",
       "    </tr>\n",
       "    <tr>\n",
       "      <th>19</th>\n",
       "      <td>KW Richardson</td>\n",
       "      <td>10.0</td>\n",
       "      <td>1</td>\n",
       "      <td>68</td>\n",
       "      <td>5</td>\n",
       "      <td>6.8</td>\n",
       "      <td>Australia</td>\n",
       "      <td>Canberra</td>\n",
       "      <td>2016-01-20</td>\n",
       "    </tr>\n",
       "  </tbody>\n",
       "</table>\n",
       "</div>"
      ],
      "text/plain": [
       "           Player  Overs  Mdns  Runs  Wkts  Econ       Team     Ground  \\\n",
       "3       YS Chahal   10.0     0    42     6   4.2      India  Melbourne   \n",
       "4        MA Starc   10.0     2    43     6   4.3  Australia  Melbourne   \n",
       "19  KW Richardson   10.0     1    68     5   6.8  Australia   Canberra   \n",
       "\n",
       "   Match Date  \n",
       "3  2019-01-18  \n",
       "4  2015-01-18  \n",
       "19 2016-01-20  "
      ]
     },
     "execution_count": 29,
     "metadata": {},
     "output_type": "execute_result"
    }
   ],
   "source": [
    "bowling_fig = get_table('best_bowling_fig_inning')\n",
    "\n",
    "\n",
    "bowling_fig['Match Date'] = pd.to_datetime(bowling_fig['Match Date'])\n",
    "bowling_fig.drop('Scorecard', axis=1, inplace=True)\n",
    "\n",
    "current = bowling_fig[bowling_fig['Match Date'].dt.year > 2013]\n",
    "current"
   ]
  },
  {
   "cell_type": "markdown",
   "metadata": {},
   "source": [
    "### Most runs conceded in an inning against oppostion"
   ]
  },
  {
   "cell_type": "code",
   "execution_count": 173,
   "metadata": {},
   "outputs": [
    {
     "data": {
      "text/html": [
       "<div>\n",
       "<style scoped>\n",
       "    .dataframe tbody tr th:only-of-type {\n",
       "        vertical-align: middle;\n",
       "    }\n",
       "\n",
       "    .dataframe tbody tr th {\n",
       "        vertical-align: top;\n",
       "    }\n",
       "\n",
       "    .dataframe thead th {\n",
       "        text-align: right;\n",
       "    }\n",
       "</style>\n",
       "<table border=\"1\" class=\"dataframe\">\n",
       "  <thead>\n",
       "    <tr style=\"text-align: right;\">\n",
       "      <th></th>\n",
       "      <th>Player</th>\n",
       "      <th>Overs</th>\n",
       "      <th>Mdns</th>\n",
       "      <th>Runs</th>\n",
       "      <th>Wkts</th>\n",
       "      <th>Econ</th>\n",
       "      <th>Team</th>\n",
       "      <th>Ground</th>\n",
       "      <th>Match Date</th>\n",
       "    </tr>\n",
       "  </thead>\n",
       "  <tbody>\n",
       "    <tr>\n",
       "      <th>5</th>\n",
       "      <td>UT Yadav</td>\n",
       "      <td>8.0</td>\n",
       "      <td>0</td>\n",
       "      <td>82</td>\n",
       "      <td>1</td>\n",
       "      <td>10.25</td>\n",
       "      <td>India</td>\n",
       "      <td>Sydney</td>\n",
       "      <td>2016-01-23</td>\n",
       "    </tr>\n",
       "    <tr>\n",
       "      <th>12</th>\n",
       "      <td>I Sharma</td>\n",
       "      <td>10.0</td>\n",
       "      <td>0</td>\n",
       "      <td>77</td>\n",
       "      <td>4</td>\n",
       "      <td>7.70</td>\n",
       "      <td>India</td>\n",
       "      <td>Canberra</td>\n",
       "      <td>2016-01-20</td>\n",
       "    </tr>\n",
       "    <tr>\n",
       "      <th>13</th>\n",
       "      <td>MR Marsh</td>\n",
       "      <td>9.4</td>\n",
       "      <td>0</td>\n",
       "      <td>77</td>\n",
       "      <td>1</td>\n",
       "      <td>7.96</td>\n",
       "      <td>Australia</td>\n",
       "      <td>Sydney</td>\n",
       "      <td>2016-01-23</td>\n",
       "    </tr>\n",
       "    <tr>\n",
       "      <th>14</th>\n",
       "      <td>NM Lyon</td>\n",
       "      <td>10.0</td>\n",
       "      <td>0</td>\n",
       "      <td>76</td>\n",
       "      <td>1</td>\n",
       "      <td>7.60</td>\n",
       "      <td>Australia</td>\n",
       "      <td>Canberra</td>\n",
       "      <td>2016-01-20</td>\n",
       "    </tr>\n",
       "    <tr>\n",
       "      <th>15</th>\n",
       "      <td>Mohammed Siraj</td>\n",
       "      <td>10.0</td>\n",
       "      <td>0</td>\n",
       "      <td>76</td>\n",
       "      <td>0</td>\n",
       "      <td>7.60</td>\n",
       "      <td>India</td>\n",
       "      <td>Adelaide</td>\n",
       "      <td>2019-01-15</td>\n",
       "    </tr>\n",
       "    <tr>\n",
       "      <th>22</th>\n",
       "      <td>MM Sharma</td>\n",
       "      <td>10.0</td>\n",
       "      <td>0</td>\n",
       "      <td>75</td>\n",
       "      <td>2</td>\n",
       "      <td>7.50</td>\n",
       "      <td>India</td>\n",
       "      <td>Sydney</td>\n",
       "      <td>2015-03-26</td>\n",
       "    </tr>\n",
       "    <tr>\n",
       "      <th>23</th>\n",
       "      <td>Kuldeep Yadav</td>\n",
       "      <td>10.0</td>\n",
       "      <td>0</td>\n",
       "      <td>75</td>\n",
       "      <td>2</td>\n",
       "      <td>7.50</td>\n",
       "      <td>India</td>\n",
       "      <td>Indore</td>\n",
       "      <td>2017-09-24</td>\n",
       "    </tr>\n",
       "    <tr>\n",
       "      <th>27</th>\n",
       "      <td>SM Boland</td>\n",
       "      <td>10.0</td>\n",
       "      <td>0</td>\n",
       "      <td>74</td>\n",
       "      <td>0</td>\n",
       "      <td>7.40</td>\n",
       "      <td>Australia</td>\n",
       "      <td>Perth</td>\n",
       "      <td>2016-01-12</td>\n",
       "    </tr>\n",
       "    <tr>\n",
       "      <th>28</th>\n",
       "      <td>UT Yadav</td>\n",
       "      <td>10.0</td>\n",
       "      <td>0</td>\n",
       "      <td>74</td>\n",
       "      <td>1</td>\n",
       "      <td>7.40</td>\n",
       "      <td>India</td>\n",
       "      <td>Brisbane</td>\n",
       "      <td>2016-01-15</td>\n",
       "    </tr>\n",
       "    <tr>\n",
       "      <th>29</th>\n",
       "      <td>R Dhawan</td>\n",
       "      <td>10.0</td>\n",
       "      <td>0</td>\n",
       "      <td>74</td>\n",
       "      <td>1</td>\n",
       "      <td>7.40</td>\n",
       "      <td>India</td>\n",
       "      <td>Sydney</td>\n",
       "      <td>2016-01-23</td>\n",
       "    </tr>\n",
       "    <tr>\n",
       "      <th>38</th>\n",
       "      <td>UT Yadav</td>\n",
       "      <td>9.0</td>\n",
       "      <td>0</td>\n",
       "      <td>72</td>\n",
       "      <td>4</td>\n",
       "      <td>8.00</td>\n",
       "      <td>India</td>\n",
       "      <td>Sydney</td>\n",
       "      <td>2015-03-26</td>\n",
       "    </tr>\n",
       "    <tr>\n",
       "      <th>44</th>\n",
       "      <td>AC Agar</td>\n",
       "      <td>10.0</td>\n",
       "      <td>0</td>\n",
       "      <td>71</td>\n",
       "      <td>1</td>\n",
       "      <td>7.10</td>\n",
       "      <td>Australia</td>\n",
       "      <td>Indore</td>\n",
       "      <td>2017-09-24</td>\n",
       "    </tr>\n",
       "    <tr>\n",
       "      <th>45</th>\n",
       "      <td>UT Yadav</td>\n",
       "      <td>10.0</td>\n",
       "      <td>0</td>\n",
       "      <td>71</td>\n",
       "      <td>4</td>\n",
       "      <td>7.10</td>\n",
       "      <td>India</td>\n",
       "      <td>Bengaluru</td>\n",
       "      <td>2017-09-28</td>\n",
       "    </tr>\n",
       "  </tbody>\n",
       "</table>\n",
       "</div>"
      ],
      "text/plain": [
       "            Player  Overs  Mdns  Runs  Wkts   Econ       Team     Ground  \\\n",
       "5         UT Yadav    8.0     0    82     1  10.25      India     Sydney   \n",
       "12        I Sharma   10.0     0    77     4   7.70      India   Canberra   \n",
       "13        MR Marsh    9.4     0    77     1   7.96  Australia     Sydney   \n",
       "14         NM Lyon   10.0     0    76     1   7.60  Australia   Canberra   \n",
       "15  Mohammed Siraj   10.0     0    76     0   7.60      India   Adelaide   \n",
       "22       MM Sharma   10.0     0    75     2   7.50      India     Sydney   \n",
       "23   Kuldeep Yadav   10.0     0    75     2   7.50      India     Indore   \n",
       "27       SM Boland   10.0     0    74     0   7.40  Australia      Perth   \n",
       "28        UT Yadav   10.0     0    74     1   7.40      India   Brisbane   \n",
       "29        R Dhawan   10.0     0    74     1   7.40      India     Sydney   \n",
       "38        UT Yadav    9.0     0    72     4   8.00      India     Sydney   \n",
       "44         AC Agar   10.0     0    71     1   7.10  Australia     Indore   \n",
       "45        UT Yadav   10.0     0    71     4   7.10      India  Bengaluru   \n",
       "\n",
       "   Match Date  \n",
       "5  2016-01-23  \n",
       "12 2016-01-20  \n",
       "13 2016-01-23  \n",
       "14 2016-01-20  \n",
       "15 2019-01-15  \n",
       "22 2015-03-26  \n",
       "23 2017-09-24  \n",
       "27 2016-01-12  \n",
       "28 2016-01-15  \n",
       "29 2016-01-23  \n",
       "38 2015-03-26  \n",
       "44 2017-09-24  \n",
       "45 2017-09-28  "
      ]
     },
     "execution_count": 173,
     "metadata": {},
     "output_type": "execute_result"
    }
   ],
   "source": [
    "conceded = get_table('most_conceded_inning')\n",
    "\n",
    "conceded['Match Date'] = pd.to_datetime(conceded['Match Date'])\n",
    "conceded.drop('Scorecard', axis=1, inplace=True)\n",
    "\n",
    "current = conceded[conceded['Match Date'].dt.year > 2013]\n",
    "current"
   ]
  },
  {
   "cell_type": "markdown",
   "metadata": {},
   "source": [
    "#### Plot of economy vs wickets taken. Size indicated runs conceded."
   ]
  },
  {
   "cell_type": "code",
   "execution_count": 183,
   "metadata": {},
   "outputs": [
    {
     "name": "stderr",
     "output_type": "stream",
     "text": [
      "C:\\Users\\Aakash\\Anaconda3\\lib\\site-packages\\sklearn\\utils\\validation.py:595: DataConversionWarning: Data with input dtype int64 was converted to float64 by MinMaxScaler.\n",
      "  warnings.warn(msg, DataConversionWarning)\n"
     ]
    },
    {
     "data": {
      "image/png": "[encoded data removed]",
      "text/plain": [
       "<Figure size 1008x576 with 1 Axes>"
      ]
     },
     "metadata": {},
     "output_type": "display_data"
    }
   ],
   "source": [
    "s = scaler.fit_transform(current.Runs.values.reshape(-1, 1))\n",
    "\n",
    "plt.figure(figsize=(14, 8))\n",
    "ax = sns.scatterplot(data=current, x='Econ', y='Wkts', hue='Team', s=s*2700, alpha=0.6)\n",
    "\n",
    "for line in current.index.values:\n",
    "    ax.text(current['Econ'][line], current['Wkts'][line], current['Player'][line].split(' ')[1] + '\\n' + current['Ground'][line],\n",
    "            horizontalalignment='center', verticalalignment='center', \n",
    "                       size='small', color='black', fontsize=10)\n",
    "\n",
    "plt.show()"
   ]
  },
  {
   "cell_type": "markdown",
   "metadata": {},
   "source": [
    "## Form - India"
   ]
  },
  {
   "cell_type": "code",
   "execution_count": 194,
   "metadata": {},
   "outputs": [],
   "source": [
    "form1 = get_table('form_ind_2018')\n",
    "form2 = get_table('form_ind_2019')\n",
    "form = form1.append(form2)\n",
    "\n",
    "form = form.dropna().reset_index().drop(['index', 'Scorecard'], axis=1)\n",
    "form['Match Date'] = pd.to_datetime(form['Match Date'])\n",
    "form['result'] = 0\n",
    "form.loc[form['Winner'] == 'India', 'result'] = 1"
   ]
  },
  {
   "cell_type": "code",
   "execution_count": 204,
   "metadata": {},
   "outputs": [
    {
     "data": {
      "image/png": "[encoded data removed]",
      "text/plain": [
       "<Figure size 864x576 with 1 Axes>"
      ]
     },
     "metadata": {},
     "output_type": "display_data"
    },
    {
     "name": "stdout",
     "output_type": "stream",
     "text": [
      "Wins: 20\n",
      "Loss: 6\n",
      "%win: 76.92\n"
     ]
    }
   ],
   "source": [
    "form.plot(x=(np.array(form.index))+1, y='result', figsize=(12, 8))\n",
    "plt.show()\n",
    "\n",
    "win = len(form[form.result == 1])\n",
    "loss = len(form[form.result == 0])\n",
    "print(f\"Wins: {win}\\nLoss: {loss}\\n%win: {round(win/(win + loss) * 100, 2)}\")"
   ]
  },
  {
   "cell_type": "markdown",
   "metadata": {},
   "source": [
    "## Form - Aus"
   ]
  },
  {
   "cell_type": "code",
   "execution_count": 206,
   "metadata": {},
   "outputs": [
    {
     "data": {
      "text/html": [
       "<div>\n",
       "<style scoped>\n",
       "    .dataframe tbody tr th:only-of-type {\n",
       "        vertical-align: middle;\n",
       "    }\n",
       "\n",
       "    .dataframe tbody tr th {\n",
       "        vertical-align: top;\n",
       "    }\n",
       "\n",
       "    .dataframe thead th {\n",
       "        text-align: right;\n",
       "    }\n",
       "</style>\n",
       "<table border=\"1\" class=\"dataframe\">\n",
       "  <thead>\n",
       "    <tr style=\"text-align: right;\">\n",
       "      <th></th>\n",
       "      <th>Team 1</th>\n",
       "      <th>Team 2</th>\n",
       "      <th>Winner</th>\n",
       "      <th>Margin</th>\n",
       "      <th>Ground</th>\n",
       "      <th>Match Date</th>\n",
       "      <th>result</th>\n",
       "    </tr>\n",
       "  </thead>\n",
       "  <tbody>\n",
       "    <tr>\n",
       "      <th>0</th>\n",
       "      <td>Australia</td>\n",
       "      <td>England</td>\n",
       "      <td>England</td>\n",
       "      <td>5 wickets</td>\n",
       "      <td>Melbourne</td>\n",
       "      <td>2018-01-14</td>\n",
       "      <td>0</td>\n",
       "    </tr>\n",
       "    <tr>\n",
       "      <th>1</th>\n",
       "      <td>Australia</td>\n",
       "      <td>England</td>\n",
       "      <td>England</td>\n",
       "      <td>4 wickets</td>\n",
       "      <td>Brisbane</td>\n",
       "      <td>2018-01-19</td>\n",
       "      <td>0</td>\n",
       "    </tr>\n",
       "    <tr>\n",
       "      <th>2</th>\n",
       "      <td>Australia</td>\n",
       "      <td>England</td>\n",
       "      <td>England</td>\n",
       "      <td>16 runs</td>\n",
       "      <td>Sydney</td>\n",
       "      <td>2018-01-21</td>\n",
       "      <td>0</td>\n",
       "    </tr>\n",
       "    <tr>\n",
       "      <th>3</th>\n",
       "      <td>Australia</td>\n",
       "      <td>England</td>\n",
       "      <td>Australia</td>\n",
       "      <td>3 wickets</td>\n",
       "      <td>Adelaide</td>\n",
       "      <td>2018-01-26</td>\n",
       "      <td>1</td>\n",
       "    </tr>\n",
       "    <tr>\n",
       "      <th>4</th>\n",
       "      <td>Australia</td>\n",
       "      <td>England</td>\n",
       "      <td>England</td>\n",
       "      <td>12 runs</td>\n",
       "      <td>Perth</td>\n",
       "      <td>2018-01-28</td>\n",
       "      <td>0</td>\n",
       "    </tr>\n",
       "  </tbody>\n",
       "</table>\n",
       "</div>"
      ],
      "text/plain": [
       "      Team 1   Team 2     Winner     Margin     Ground Match Date  result\n",
       "0  Australia  England    England  5 wickets  Melbourne 2018-01-14       0\n",
       "1  Australia  England    England  4 wickets   Brisbane 2018-01-19       0\n",
       "2  Australia  England    England    16 runs     Sydney 2018-01-21       0\n",
       "3  Australia  England  Australia  3 wickets   Adelaide 2018-01-26       1\n",
       "4  Australia  England    England    12 runs      Perth 2018-01-28       0"
      ]
     },
     "execution_count": 206,
     "metadata": {},
     "output_type": "execute_result"
    }
   ],
   "source": [
    "form1 = get_table('form_aus_2018')\n",
    "form2 = get_table('form_aus_2019')\n",
    "form = form1.append(form2)\n",
    "\n",
    "form = form.dropna().reset_index().drop(['index', 'Scorecard'], axis=1)\n",
    "form['Match Date'] = pd.to_datetime(form['Match Date'])\n",
    "form['result'] = 0\n",
    "form.loc[form['Winner'] == 'Australia', 'result'] = 1\n",
    "form.head()"
   ]
  },
  {
   "cell_type": "code",
   "execution_count": 207,
   "metadata": {},
   "outputs": [
    {
     "data": {
      "image/png": "[encoded data removed]",
      "text/plain": [
       "<Figure size 864x576 with 1 Axes>"
      ]
     },
     "metadata": {},
     "output_type": "display_data"
    },
    {
     "name": "stdout",
     "output_type": "stream",
     "text": [
      "Wins: 3\n",
      "Loss: 13\n",
      "%win: 18.75\n"
     ]
    }
   ],
   "source": [
    "form.plot(x=(np.array(form.index))+1, y='result', figsize=(12, 8))\n",
    "plt.show()\n",
    "\n",
    "win = len(form[form.result == 1])\n",
    "loss = len(form[form.result == 0])\n",
    "print(f\"Wins: {win}\\nLoss: {loss}\\n%win: {round(win/(win + loss) * 100, 2)}\")"
   ]
  },
  {
   "cell_type": "markdown",
   "metadata": {},
   "source": [
    "## Stadium Stats"
   ]
  },
  {
   "cell_type": "code",
   "execution_count": 29,
   "metadata": {},
   "outputs": [],
   "source": [
    "hyd_agg = get_table(\"hyd_agg\", \"http://stats.espncricinfo.com/ci/engine/records/team/highest_match_aggregates.html?class=2;id=1981;type=ground\")\n",
    "hyd_agg['ground'] = 'hydrabad'\n",
    "\n",
    "nagpur_agg = get_table(\"nagpur_agg\", \"http://stats.espncricinfo.com/ci/engine/records/team/highest_match_aggregates.html?class=2;id=367;type=ground\")\n",
    "nagpur_agg['ground'] = 'nagpur'\n",
    "\n",
    "ranchi_agg = get_table(\"ranchi_agg\", \"http://stats.espncricinfo.com/ci/engine/records/team/highest_match_aggregates.html?class=2;id=2575;type=ground\")\n",
    "ranchi_agg['ground'] = 'ranchi'\n",
    "\n",
    "mohali_agg = get_table(\"mohali_agg\", \"http://stats.espncricinfo.com/ci/engine/records/team/highest_match_aggregates.html?class=2;id=1015;type=ground\")\n",
    "mohali_agg['ground'] = 'mohali'\n",
    "\n",
    "delhi_agg = get_table(\"delhi_agg\", \"http://stats.espncricinfo.com/ci/engine/records/team/highest_match_aggregates.html?class=2;id=333;type=ground\")\n",
    "delhi_agg['ground'] = 'delhi'\n",
    "\n",
    "stadium_runs_agg = hyd_agg.append([nagpur_agg, ranchi_agg, mohali_agg, delhi_agg]).reset_index(drop=True)\n",
    "stadium_runs_agg.drop(index=70, inplace=True)"
   ]
  },
  {
   "cell_type": "code",
   "execution_count": 30,
   "metadata": {},
   "outputs": [
    {
     "data": {
      "text/html": [
       "<div>\n",
       "<style scoped>\n",
       "    .dataframe tbody tr th:only-of-type {\n",
       "        vertical-align: middle;\n",
       "    }\n",
       "\n",
       "    .dataframe tbody tr th {\n",
       "        vertical-align: top;\n",
       "    }\n",
       "\n",
       "    .dataframe thead th {\n",
       "        text-align: right;\n",
       "    }\n",
       "</style>\n",
       "<table border=\"1\" class=\"dataframe\">\n",
       "  <thead>\n",
       "    <tr style=\"text-align: right;\">\n",
       "      <th></th>\n",
       "      <th>Runs</th>\n",
       "      <th>Wkts</th>\n",
       "      <th>RR</th>\n",
       "    </tr>\n",
       "    <tr>\n",
       "      <th>ground</th>\n",
       "      <th></th>\n",
       "      <th></th>\n",
       "      <th></th>\n",
       "    </tr>\n",
       "  </thead>\n",
       "  <tbody>\n",
       "    <tr>\n",
       "      <th>nagpur</th>\n",
       "      <td>509.357143</td>\n",
       "      <td>14.0</td>\n",
       "      <td>6.005</td>\n",
       "    </tr>\n",
       "    <tr>\n",
       "      <th>hydrabad</th>\n",
       "      <td>538.400000</td>\n",
       "      <td>14.0</td>\n",
       "      <td>5.450</td>\n",
       "    </tr>\n",
       "    <tr>\n",
       "      <th>ranchi</th>\n",
       "      <td>427.250000</td>\n",
       "      <td>14.0</td>\n",
       "      <td>5.440</td>\n",
       "    </tr>\n",
       "    <tr>\n",
       "      <th>mohali</th>\n",
       "      <td>496.250000</td>\n",
       "      <td>15.5</td>\n",
       "      <td>5.255</td>\n",
       "    </tr>\n",
       "    <tr>\n",
       "      <th>delhi</th>\n",
       "      <td>451.173913</td>\n",
       "      <td>15.0</td>\n",
       "      <td>4.920</td>\n",
       "    </tr>\n",
       "  </tbody>\n",
       "</table>\n",
       "</div>"
      ],
      "text/plain": [
       "                Runs  Wkts     RR\n",
       "ground                           \n",
       "nagpur    509.357143  14.0  6.005\n",
       "hydrabad  538.400000  14.0  5.450\n",
       "ranchi    427.250000  14.0  5.440\n",
       "mohali    496.250000  15.5  5.255\n",
       "delhi     451.173913  15.0  4.920"
      ]
     },
     "execution_count": 30,
     "metadata": {},
     "output_type": "execute_result"
    }
   ],
   "source": [
    "stadium_runs_agg.groupby('ground').agg({'Runs': 'mean', 'Wkts': 'median', 'RR': 'median'}).sort_values('RR', ascending=False)"
   ]
  },
  {
   "cell_type": "markdown",
   "metadata": {},
   "source": [
    "# Predictions"
   ]
  },
  {
   "cell_type": "markdown",
   "metadata": {},
   "source": [
    "### Latest Squads for upcoming ODI (For reference)"
   ]
  },
  {
   "cell_type": "markdown",
   "metadata": {},
   "source": [
    "__INDIA__\n",
    "\n",
    "__1st and 2nd ODI Squad:__ Rohit Sharma, Shikhar Dhawan, Virat Kohli(c), Ambati Rayudu, Lokesh Rahul, Rishabh Pant, MS Dhoni, Kedar Jadhav, Vijay Shankar, Kuldeep Yadav, Siddarth Kaul, Mohammed Shami, Jasprit Bumrah, Yuzvendra Chahal, Ravindra Jadeja\n",
    "\n",
    "__3rd, 4th & 5th ODI Squad:__ Rohit Sharma, Shikhar Dhawan, Virat Kohli(c), Ambati Rayudu, Lokesh Rahul, Rishabh Pant, MS Dhoni, Kedar Jadhav, Vijay Shankar, Bhuvneshwar Kumar, Kuldeep Yadav, Mohammed Shami, Jasprit Bumrah, Yuzvendra Chahal, Ravindra Jadeja\n",
    "\n",
    "__AUSTRALIA__\n",
    "\n",
    "Aaron Finch (C), Usman Khawaja, Shaun Marsh, Peter Handscomb, Glenn Maxwell, Ashton Turner, Marcus Stoinis, Alex Carey (W), Pat Cummins, Nathan Coulter-Nile, Jhye Richardson, Andrew Tye, Jason Behrendorff, Nathan Lyon, Adam Zampa, D'Arcy Short"
   ]
  },
  {
   "cell_type": "markdown",
   "metadata": {},
   "source": [
    "# Winner of the Series"
   ]
  },
  {
   "cell_type": "markdown",
   "metadata": {},
   "source": [
    "### Pick: INDIA\n",
    "\n",
    "India currently has a much better form in ODIs. They also have the home advantage. In India the pitches are more flat generally so it’s easier to bat. Also, India has won most of their games when Kedar Jadhav was in the team.\n",
    "\n",
    "India's win percent in all ODIs for the last two years is around 77% while Australia's is only 18.75%"
   ]
  },
  {
   "cell_type": "markdown",
   "metadata": {},
   "source": [
    "# Series Output"
   ]
  },
  {
   "cell_type": "markdown",
   "metadata": {},
   "source": [
    "### Pick: INDIA  3 - 2 AUSTRALIA"
   ]
  },
  {
   "cell_type": "markdown",
   "metadata": {},
   "source": [
    "Although India have the home advantage, they will find it difficult to whitewash the series. These are the last 5 ODI matches for the Indian team before they head into the World Cup and are still trying to find the perfect team combination and may not play their best XI for every match to give the bench some game time. Therefore it is possible they may lose a couple of games. \n",
    "\n",
    "Australia have good pace bowlers compared to India. Besides generally being a good pitch for bowlers, Mohali is also good for pace.\n"
   ]
  },
  {
   "cell_type": "markdown",
   "metadata": {},
   "source": [
    "# Highest run scorer "
   ]
  },
  {
   "cell_type": "markdown",
   "metadata": {},
   "source": [
    "### Pick: Rohit Sharma"
   ]
  },
  {
   "cell_type": "markdown",
   "metadata": {},
   "source": [
    "By analyzing \"most carreer runs against opposition\", \"most 6s in a single match against opposition\", \"Most runs from 4s + 6s against oppostion\" only one player stands out and that is Rohit Sharma. "
   ]
  },
  {
   "cell_type": "markdown",
   "metadata": {},
   "source": [
    "# Highest wicket-taker"
   ]
  },
  {
   "cell_type": "markdown",
   "metadata": {},
   "source": [
    "### Pick: Y Chahal"
   ]
  },
  {
   "cell_type": "markdown",
   "metadata": {},
   "source": [
    "Indian conditions tend to favour spin bowlers. Historically Australian batsmen have not been good players of spin. India's leg-spinning duo, Kuldeep Yadav and Yuzvendra Chahal have built a very succesful partnership and they regularly take wickets in the middle overs.\n",
    "\n",
    "pace bowler Kane richardson is out, which will make life tougher for Australia and thus will not be able to take full advantage of pitch at Mohali."
   ]
  },
  {
   "cell_type": "markdown",
   "metadata": {},
   "source": [
    "# Player with Maximum sixes"
   ]
  },
  {
   "cell_type": "markdown",
   "metadata": {},
   "source": [
    "### Pick: Rohit Sharma"
   ]
  },
  {
   "cell_type": "markdown",
   "metadata": {},
   "source": [
    "The player with the most sixes would be a toss-up between Rohit Sharma and Glen Maxwell. They both can hit the ball a long way but Rohit Sharma may emerge as the victor in this clash as Glen Maxwell plays as a floater in the Australian middle order (Therefore is less likely to face a large amount of balls). There is a direct correlation between number of 6's and balls faced. It's become common to see him bat at the no. 7 position which means he will get lesser time in the middle than Rohit Sharma and lesser opportunities to hit a sixer."
   ]
  },
  {
   "cell_type": "markdown",
   "metadata": {},
   "source": [
    "# Player with Maximum fours"
   ]
  },
  {
   "cell_type": "markdown",
   "metadata": {},
   "source": [
    "### Pick: Rohit Sharma"
   ]
  },
  {
   "cell_type": "markdown",
   "metadata": {},
   "source": [
    "Analyzing \"most 6s in a single match against opposition\", \"Most runs from 4s + 6s against oppostion\" we can safely say that player with the maximum sixes (and starts early in the game) is more likely to also be the player with maximum 4s. Although Virat Kohli is also in contention for this spot as we can see by the \"4s vs 6s\" plot. "
   ]
  },
  {
   "cell_type": "code",
   "execution_count": null,
   "metadata": {},
   "outputs": [],
   "source": []
  }
 ],
 "metadata": {
  "kernelspec": {
   "display_name": "Python 3",
   "language": "python",
   "name": "python3"
  },
  "language_info": {
   "codemirror_mode": {
    "name": "ipython",
    "version": 3
   },
   "file_extension": ".py",
   "mimetype": "text/x-python",
   "name": "python",
   "nbconvert_exporter": "python",
   "pygments_lexer": "ipython3",
   "version": "3.6.4"
  }
 },
 "nbformat": 4,
 "nbformat_minor": 2
}
